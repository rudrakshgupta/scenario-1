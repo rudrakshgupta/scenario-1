{
 "cells": [
  {
   "cell_type": "code",
   "execution_count": 1,
   "metadata": {},
   "outputs": [],
   "source": [
    "#SCENARIO_1\n"
   ]
  },
  {
   "cell_type": "code",
   "execution_count": 3,
   "metadata": {},
   "outputs": [],
   "source": [
    "#Average Card Balance(Rupees) \n",
    "A = 1000\n",
    "\n",
    "#Interest Rate(Simple Interest, Calculated on daily basis)\n",
    "r = 0.15\n",
    "\n",
    "#Loss Rate\n",
    "l = .03 \n",
    "#Loss rate is 3% of outstanding balance. That is that after every month 3% of the outstanding balance of the customers will be considered defaulted, i.e. the company will suffer a lose of 3% every month on the total outstanding balance.\n",
    "\n",
    "#Membership fee (per card, per month)\n",
    "m = 20\n",
    "\n",
    "#Operation Cost (per card, per month)\n",
    "o = 25\n",
    "\n",
    "#Affiliation fee (per card, per month)\n",
    "f = 10\n",
    "\n",
    "#Cost of funds (Simple interest, calculated daily)\n",
    "c = 0.065\n",
    "\n",
    "#Number of customers be x"
   ]
  },
  {
   "cell_type": "code",
   "execution_count": 6,
   "metadata": {},
   "outputs": [],
   "source": [
    "\n"
   ]
  },
  {
   "cell_type": "code",
   "execution_count": 37,
   "metadata": {},
   "outputs": [
    {
     "name": "stdout",
     "output_type": "stream",
     "text": [
      "27027.5\n",
      "56110.0\n",
      "107.60336694107852\n"
     ]
    }
   ],
   "source": [
    "##Question_1 How much profit % is generated in 1 year?\n",
    "#Solution_1\n",
    "A=1000\n",
    "Total_cost = A*(1+365*c) + o*12 + l*(A*12+A*r*365)\n",
    "print(Total_cost)\n",
    "Total_revenue = A*(1+365*r) + f*12 + m*12 \n",
    "print(Total_revenue)\n",
    "#Profit%\n",
    "Profit = (Total_revenue - Total_cost)/Total_cost *100\n",
    "print(Profit)\n"
   ]
  },
  {
   "cell_type": "code",
   "execution_count": 39,
   "metadata": {},
   "outputs": [
    {
     "name": "stdout",
     "output_type": "stream",
     "text": [
      "25385.0\n",
      "56110.0\n",
      "121.03604490841049\n"
     ]
    }
   ],
   "source": [
    "##Question_2 The 3% loss rate can either mean either 3% of the outstanding balance defaults or 3% of the borrowers default on their entire balance. If the average balance is increased to $2000, what happens to the loss?\n",
    "#Solution_2\n",
    "#We are taking 3% of the outstanding balance. If we take 3% of the enitre balance then the total cost will change to:\n",
    "Total_cost = A*(1+365*c) + o*12 + l*(A*12)\n",
    "print(Total_cost)\n",
    "Total_revenue = A*(1+365*r) + f*12 + m*12 \n",
    "print(Total_revenue)\n",
    "Profit = (Total_revenue - Total_cost)/Total_cost *100\n",
    "print(Profit)\n"
   ]
  },
  {
   "cell_type": "code",
   "execution_count": 41,
   "metadata": {},
   "outputs": [
    {
     "name": "stdout",
     "output_type": "stream",
     "text": [
      "50470.0\n",
      "111860.0\n",
      "121.63661581137308\n"
     ]
    }
   ],
   "source": [
    "#If A=2000 then losses due to defaulters increases accordingly.\n",
    "A=2000\n",
    "Total_cost = A*(1+365*c) + o*12 + l*(A*12)\n",
    "print(Total_cost)\n",
    "Total_revenue = A*(1+365*r) + f*12 + m*12 \n",
    "print(Total_revenue)\n",
    "Profit = (Total_revenue - Total_cost)/Total_cost *100\n",
    "print(Profit)"
   ]
  },
  {
   "cell_type": "code",
   "execution_count": 42,
   "metadata": {},
   "outputs": [],
   "source": [
    "##Question_3 Is a borrower with a low balance more or less likely to default then a borrower with a high balance? Why ? explain clearly\n",
    "#Solution_3\n",
    "#The borrower with a low balance is more likely to default than a borrower with a high balance because the interest rate on higher balance will result in more interest, so no one will like to pay a lot more than they have consumed.\n",
    "#For example, a person has Rs.1000 balance, the interest will be Rs.15 for a day, but a person with Rs. 2000 as balance will have to pay Rs.30 more than what he has consumed, so he will try to pay back the loan as soon as possible. The person with Rs.1000 will first try to pay back loans with higher interest as compared to this loan.\n"
   ]
  },
  {
   "cell_type": "code",
   "execution_count": 43,
   "metadata": {},
   "outputs": [
    {
     "name": "stdout",
     "output_type": "stream",
     "text": [
      "27047.5\n",
      "55990.0\n",
      "107.00619280894723\n"
     ]
    }
   ],
   "source": [
    "##Question_4 The group company has now become unhappy with the credit card provider. it wants to start its own credit card. But for that, it will need to purchase the customers from the current credit card company. If the affilated group offered Rs 20 per account to purchase all the customers from the credit card company, what would there profit be? (assume that we are only talking about 1 year)\n",
    "#Solution_4\n",
    "\n",
    "#Average Card Balance(Rupees) \n",
    "A = 1000\n",
    "\n",
    "#Interest Rate(Simple Interest, Calculated on daily basis)\n",
    "r = 0.15\n",
    "\n",
    "#Loss Rate\n",
    "l = .03 \n",
    "#Loss rate is 3% of outstanding balance. That is that after every month 3% of the outstanding balance of the customers will be considered defaulted, i.e. the company will suffer a lose of 3% every month on the total outstanding balance.\n",
    "\n",
    "#Membership fee (per card, per month)\n",
    "m = 20\n",
    "\n",
    "#Operation Cost (per card, per month)\n",
    "o = 25\n",
    "\n",
    "#Cost of buying customer(per card)\n",
    "f = 20\n",
    "\n",
    "#Cost of funds (Simple interest, calculated daily)\n",
    "c = 0.065\n",
    "\n",
    "#Number of customers be x\n",
    "\n",
    "Total_cost = A*(1+365*c) + o*12 + f + l*(A*12+A*r*365)\n",
    "print(Total_cost)\n",
    "Total_revenue = A*(1+365*r) + m*12 \n",
    "print(Total_revenue)\n",
    "#Profit%\n",
    "Profit = (Total_revenue - Total_cost)/Total_cost *100\n",
    "print(Profit)\n"
   ]
  },
  {
   "cell_type": "code",
   "execution_count": 47,
   "metadata": {},
   "outputs": [],
   "source": [
    "#Question_5  What numbers can the financial institution change to convince the affiliated group not to want to purchase, while still not going into a loss? Give a range of what the new numbers are (min and max)\n",
    "##Solution_5\n",
    "#Total_cost = Total_ revenue\n",
    "#365*A*r + (m + f)*12 = 26027.5\n",
    "#Now the company has to choose between an interest rate and a membership fee and an affiliation fee.\n",
    "#If they keep the fees same then:\n",
    "#365*A*r + (20 + 10)*12 = 26027.5\n",
    "#r = 7.03%\n",
    "\n",
    "#If they reduce the fees to zero:\n",
    "#365*A*r = 26027.5\n",
    "#r = 7.13%\n",
    "\n",
    "#Therefore, interest rate lies between:\n",
    "#7.03% <= r <= 7.13%\n"
   ]
  },
  {
   "cell_type": "code",
   "execution_count": null,
   "metadata": {},
   "outputs": [],
   "source": []
  }
 ],
 "metadata": {
  "kernelspec": {
   "display_name": "Python 3",
   "language": "python",
   "name": "python3"
  },
  "language_info": {
   "codemirror_mode": {
    "name": "ipython",
    "version": 3
   },
   "file_extension": ".py",
   "mimetype": "text/x-python",
   "name": "python",
   "nbconvert_exporter": "python",
   "pygments_lexer": "ipython3",
   "version": "3.7.1"
  }
 },
 "nbformat": 4,
 "nbformat_minor": 2
}
